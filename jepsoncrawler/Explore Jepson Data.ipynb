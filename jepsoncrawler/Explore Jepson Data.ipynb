{
 "cells": [
  {
   "cell_type": "code",
   "execution_count": 1,
   "metadata": {},
   "outputs": [],
   "source": [
    "import pandas as pd"
   ]
  },
  {
   "cell_type": "code",
   "execution_count": 2,
   "metadata": {},
   "outputs": [],
   "source": [
    "data = pd.read_json(\"jepson_catalog.jl\", lines=True)"
   ]
  },
  {
   "cell_type": "code",
   "execution_count": 5,
   "metadata": {},
   "outputs": [
    {
     "data": {
      "text/plain": [
       "Chromosomes:                        NaN                                                                                                                                                                                                                                                                                                                                                                                               \n",
       "Distribution Outside California:     NCo;                                                                                                                                                                                                                                                                                                                                                                                             \n",
       "Ecology:                             Shores, floodplains of rivers, creeks; sandy, gravelly, rocky, often serpentine;                                                                                                                                                                                                                                                                                                                 \n",
       "Elevation:                           90--460 m.                                                                                                                                                                                                                                                                                                                                                                                       \n",
       "Flower:                             NaN                                                                                                                                                                                                                                                                                                                                                                                               \n",
       "Flowering Time:                      Oregon.                                                                                                                                                                                                                                                                                                                                                                                          \n",
       "Fruit:                              NaN                                                                                                                                                                                                                                                                                                                                                                                               \n",
       "Habit:                               Shrub 1--6 m; leaves, twigs +- glabrous in age.                                                                                                                                                                                                                                                                                                                                                  \n",
       "Inflorescence:                       blooming just before or with leaves, pistillate 17--42 mm, on leafy shoots 1.5--3 mm; flower bract brown or brown with paler base, with straight or wavy hairs, tip rounded to truncate.                                                                                                                                                                                                         \n",
       "Jepson eFlora Author:                Apr--May                                                                                                                                                                                                                                                                                                                                                                                         \n",
       "Leaf:                                later stipules leaf-like; petiole 5--11 mm, adaxially tomentose to velvety; young leaves white- or white-and-rusty-hairy; mature blade 55--96 mm, strap-shaped, oblanceolate, or elliptic, acute to acuminate (base convex or +- decurrent), entire, wavy, or minutely serrate, +- rolled under, abaxially glabrous to +- densely tomentose, hairs white or white-and-rusty, straight or curved. \n",
       "Note:                               NaN                                                                                                                                                                                                                                                                                                                                                                                               \n",
       "Pistillate Flower:                   ovary glabrous, stalk 1--1.7(2.4) mm, style 0.12--0.6 mm.                                                                                                                                                                                                                                                                                                                                        \n",
       "Pistillate Inflorescence:           NaN                                                                                                                                                                                                                                                                                                                                                                                               \n",
       "Reference:                           George W. Argus                                                                                                                                                                                                                                                                                                                                                                                  \n",
       "Seed:                               NaN                                                                                                                                                                                                                                                                                                                                                                                               \n",
       "Staminate Flower:                    stamens 2.                                                                                                                                                                                                                                                                                                                                                                                       \n",
       "Staminate Inflorescence:            NaN                                                                                                                                                                                                                                                                                                                                                                                               \n",
       "Stem:                                twigs yellow- to red-brown, weakly glaucous, glabrous or sparsely to +- densely velvety or tomentose.                                                                                                                                                                                                                                                                                            \n",
       "Synonyms:                           NaN                                                                                                                                                                                                                                                                                                                                                                                               \n",
       "Toxicity:                           NaN                                                                                                                                                                                                                                                                                                                                                                                               \n",
       "family                              Salicaceae                                                                                                                                                                                                                                                                                                                                                                                        \n",
       "genus                               Salix                                                                                                                                                                                                                                                                                                                                                                                             \n",
       "local_status                        NATIVE                                                                                                                                                                                                                                                                                                                                                                                            \n",
       "species                             Salix tracyi                                                                                                                                                                                                                                                                                                                                                                                      \n",
       "url                                 https://ucjeps.berkeley.edu/eflora/eflora_display.php?tid=42862                                                                                                                                                                                                                                                                                                                                   \n",
       "Name: 0, dtype: object"
      ]
     },
     "execution_count": 5,
     "metadata": {},
     "output_type": "execute_result"
    }
   ],
   "source": [
    "pd.set_option('display.max_colwidth', 0)\n",
    "data.iloc[0]"
   ]
  }
 ],
 "metadata": {
  "kernelspec": {
   "display_name": "Python 3",
   "language": "python",
   "name": "python3"
  },
  "language_info": {
   "codemirror_mode": {
    "name": "ipython",
    "version": 3
   },
   "file_extension": ".py",
   "mimetype": "text/x-python",
   "name": "python",
   "nbconvert_exporter": "python",
   "pygments_lexer": "ipython3",
   "version": "3.6.4"
  }
 },
 "nbformat": 4,
 "nbformat_minor": 4
}
